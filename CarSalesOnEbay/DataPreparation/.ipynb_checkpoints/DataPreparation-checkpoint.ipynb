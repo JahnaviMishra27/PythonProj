{
 "cells": [
  {
   "cell_type": "markdown",
   "metadata": {},
   "source": [
    "# Data Wrangling, Cleaning of Data, Exploration of Data to make it consistent for Analysis"
   ]
  },
  {
   "cell_type": "code",
   "execution_count": 23,
   "metadata": {
    "collapsed": true
   },
   "outputs": [],
   "source": [
    "%matplotlib inline"
   ]
  },
  {
   "cell_type": "code",
   "execution_count": 24,
   "metadata": {
    "collapsed": true
   },
   "outputs": [],
   "source": [
    "# importing required libraries\n",
    "import os\n",
    "import subprocess\n",
    "import stat\n",
    "import numpy as np\n",
    "import pandas as pd\n",
    "import seaborn as sns\n",
    "import matplotlib.pyplot as plt\n",
    "from datetime import datetime"
   ]
  },
  {
   "cell_type": "code",
   "execution_count": 25,
   "metadata": {
    "collapsed": false
   },
   "outputs": [],
   "source": [
    "# reading csv into raw dataframe\n",
    "df = pd.read_csv(r\"C:\\Users\\jahna\\OneDrive\\Desktop\\Codes\\python\\PythonProj\\data-analysis-using-python-master\\RawData\\autos.csv\",encoding=\"latin-1\")"
   ]
  },
  {
   "cell_type": "code",
   "execution_count": 26,
   "metadata": {},
   "outputs": [
    {
     "name": "stdout",
     "output_type": "stream",
     "text": [
      "<class 'pandas.core.frame.DataFrame'>\n",
      "RangeIndex: 371528 entries, 0 to 371527\n",
      "Data columns (total 20 columns):\n",
      " #   Column               Non-Null Count   Dtype \n",
      "---  ------               --------------   ----- \n",
      " 0   dateCrawled          371528 non-null  object\n",
      " 1   name                 371528 non-null  object\n",
      " 2   seller               371528 non-null  object\n",
      " 3   offerType            371528 non-null  object\n",
      " 4   price                371528 non-null  int64 \n",
      " 5   abtest               371528 non-null  object\n",
      " 6   vehicleType          333659 non-null  object\n",
      " 7   yearOfRegistration   371528 non-null  int64 \n",
      " 8   gearbox              351319 non-null  object\n",
      " 9   powerPS              371528 non-null  int64 \n",
      " 10  model                351044 non-null  object\n",
      " 11  kilometer            371528 non-null  int64 \n",
      " 12  monthOfRegistration  371528 non-null  int64 \n",
      " 13  fuelType             338142 non-null  object\n",
      " 14  brand                371528 non-null  object\n",
      " 15  notRepairedDamage    299468 non-null  object\n",
      " 16  dateCreated          371528 non-null  object\n",
      " 17  nrOfPictures         371528 non-null  int64 \n",
      " 18  postalCode           371528 non-null  int64 \n",
      " 19  lastSeen             371528 non-null  object\n",
      "dtypes: int64(7), object(13)\n",
      "memory usage: 56.7+ MB\n"
     ]
    }
   ],
   "source": [
    "df.info()"
   ]
  },
  {
   "cell_type": "code",
   "execution_count": 27,
   "metadata": {},
   "outputs": [
    {
     "data": {
      "text/html": [
       "<div>\n",
       "<style scoped>\n",
       "    .dataframe tbody tr th:only-of-type {\n",
       "        vertical-align: middle;\n",
       "    }\n",
       "\n",
       "    .dataframe tbody tr th {\n",
       "        vertical-align: top;\n",
       "    }\n",
       "\n",
       "    .dataframe thead th {\n",
       "        text-align: right;\n",
       "    }\n",
       "</style>\n",
       "<table border=\"1\" class=\"dataframe\">\n",
       "  <thead>\n",
       "    <tr style=\"text-align: right;\">\n",
       "      <th></th>\n",
       "      <th>price</th>\n",
       "      <th>yearOfRegistration</th>\n",
       "      <th>powerPS</th>\n",
       "      <th>kilometer</th>\n",
       "      <th>monthOfRegistration</th>\n",
       "      <th>nrOfPictures</th>\n",
       "      <th>postalCode</th>\n",
       "    </tr>\n",
       "  </thead>\n",
       "  <tbody>\n",
       "    <tr>\n",
       "      <th>count</th>\n",
       "      <td>3.715280e+05</td>\n",
       "      <td>371528.000000</td>\n",
       "      <td>371528.000000</td>\n",
       "      <td>371528.000000</td>\n",
       "      <td>371528.000000</td>\n",
       "      <td>371528.0</td>\n",
       "      <td>371528.00000</td>\n",
       "    </tr>\n",
       "    <tr>\n",
       "      <th>mean</th>\n",
       "      <td>1.729514e+04</td>\n",
       "      <td>2004.577997</td>\n",
       "      <td>115.549477</td>\n",
       "      <td>125618.688228</td>\n",
       "      <td>5.734445</td>\n",
       "      <td>0.0</td>\n",
       "      <td>50820.66764</td>\n",
       "    </tr>\n",
       "    <tr>\n",
       "      <th>std</th>\n",
       "      <td>3.587954e+06</td>\n",
       "      <td>92.866598</td>\n",
       "      <td>192.139578</td>\n",
       "      <td>40112.337051</td>\n",
       "      <td>3.712412</td>\n",
       "      <td>0.0</td>\n",
       "      <td>25799.08247</td>\n",
       "    </tr>\n",
       "    <tr>\n",
       "      <th>min</th>\n",
       "      <td>0.000000e+00</td>\n",
       "      <td>1000.000000</td>\n",
       "      <td>0.000000</td>\n",
       "      <td>5000.000000</td>\n",
       "      <td>0.000000</td>\n",
       "      <td>0.0</td>\n",
       "      <td>1067.00000</td>\n",
       "    </tr>\n",
       "    <tr>\n",
       "      <th>25%</th>\n",
       "      <td>1.150000e+03</td>\n",
       "      <td>1999.000000</td>\n",
       "      <td>70.000000</td>\n",
       "      <td>125000.000000</td>\n",
       "      <td>3.000000</td>\n",
       "      <td>0.0</td>\n",
       "      <td>30459.00000</td>\n",
       "    </tr>\n",
       "    <tr>\n",
       "      <th>50%</th>\n",
       "      <td>2.950000e+03</td>\n",
       "      <td>2003.000000</td>\n",
       "      <td>105.000000</td>\n",
       "      <td>150000.000000</td>\n",
       "      <td>6.000000</td>\n",
       "      <td>0.0</td>\n",
       "      <td>49610.00000</td>\n",
       "    </tr>\n",
       "    <tr>\n",
       "      <th>75%</th>\n",
       "      <td>7.200000e+03</td>\n",
       "      <td>2008.000000</td>\n",
       "      <td>150.000000</td>\n",
       "      <td>150000.000000</td>\n",
       "      <td>9.000000</td>\n",
       "      <td>0.0</td>\n",
       "      <td>71546.00000</td>\n",
       "    </tr>\n",
       "    <tr>\n",
       "      <th>max</th>\n",
       "      <td>2.147484e+09</td>\n",
       "      <td>9999.000000</td>\n",
       "      <td>20000.000000</td>\n",
       "      <td>150000.000000</td>\n",
       "      <td>12.000000</td>\n",
       "      <td>0.0</td>\n",
       "      <td>99998.00000</td>\n",
       "    </tr>\n",
       "  </tbody>\n",
       "</table>\n",
       "</div>"
      ],
      "text/plain": [
       "              price  yearOfRegistration        powerPS      kilometer  \\\n",
       "count  3.715280e+05       371528.000000  371528.000000  371528.000000   \n",
       "mean   1.729514e+04         2004.577997     115.549477  125618.688228   \n",
       "std    3.587954e+06           92.866598     192.139578   40112.337051   \n",
       "min    0.000000e+00         1000.000000       0.000000    5000.000000   \n",
       "25%    1.150000e+03         1999.000000      70.000000  125000.000000   \n",
       "50%    2.950000e+03         2003.000000     105.000000  150000.000000   \n",
       "75%    7.200000e+03         2008.000000     150.000000  150000.000000   \n",
       "max    2.147484e+09         9999.000000   20000.000000  150000.000000   \n",
       "\n",
       "       monthOfRegistration  nrOfPictures    postalCode  \n",
       "count        371528.000000      371528.0  371528.00000  \n",
       "mean              5.734445           0.0   50820.66764  \n",
       "std               3.712412           0.0   25799.08247  \n",
       "min               0.000000           0.0    1067.00000  \n",
       "25%               3.000000           0.0   30459.00000  \n",
       "50%               6.000000           0.0   49610.00000  \n",
       "75%               9.000000           0.0   71546.00000  \n",
       "max              12.000000           0.0   99998.00000  "
      ]
     },
     "execution_count": 27,
     "metadata": {},
     "output_type": "execute_result"
    }
   ],
   "source": [
    "df.describe()"
   ]
  },
  {
   "cell_type": "code",
   "execution_count": 28,
   "metadata": {},
   "outputs": [
    {
     "data": {
      "text/html": [
       "<div>\n",
       "<style scoped>\n",
       "    .dataframe tbody tr th:only-of-type {\n",
       "        vertical-align: middle;\n",
       "    }\n",
       "\n",
       "    .dataframe tbody tr th {\n",
       "        vertical-align: top;\n",
       "    }\n",
       "\n",
       "    .dataframe thead th {\n",
       "        text-align: right;\n",
       "    }\n",
       "</style>\n",
       "<table border=\"1\" class=\"dataframe\">\n",
       "  <thead>\n",
       "    <tr style=\"text-align: right;\">\n",
       "      <th></th>\n",
       "      <th>dateCrawled</th>\n",
       "      <th>name</th>\n",
       "      <th>seller</th>\n",
       "      <th>offerType</th>\n",
       "      <th>price</th>\n",
       "      <th>abtest</th>\n",
       "      <th>vehicleType</th>\n",
       "      <th>yearOfRegistration</th>\n",
       "      <th>gearbox</th>\n",
       "      <th>powerPS</th>\n",
       "      <th>model</th>\n",
       "      <th>kilometer</th>\n",
       "      <th>monthOfRegistration</th>\n",
       "      <th>fuelType</th>\n",
       "      <th>brand</th>\n",
       "      <th>notRepairedDamage</th>\n",
       "      <th>dateCreated</th>\n",
       "      <th>nrOfPictures</th>\n",
       "      <th>postalCode</th>\n",
       "      <th>lastSeen</th>\n",
       "    </tr>\n",
       "  </thead>\n",
       "  <tbody>\n",
       "    <tr>\n",
       "      <th>187112</th>\n",
       "      <td>2016-03-11 11:50:50</td>\n",
       "      <td>Volkswagen_Golf_Plus_1.4_Sitzheizung_Klimaauto...</td>\n",
       "      <td>privat</td>\n",
       "      <td>Angebot</td>\n",
       "      <td>5950</td>\n",
       "      <td>test</td>\n",
       "      <td>bus</td>\n",
       "      <td>2005</td>\n",
       "      <td>manuell</td>\n",
       "      <td>75</td>\n",
       "      <td>golf</td>\n",
       "      <td>80000</td>\n",
       "      <td>10</td>\n",
       "      <td>benzin</td>\n",
       "      <td>volkswagen</td>\n",
       "      <td>nein</td>\n",
       "      <td>2016-03-11 00:00:00</td>\n",
       "      <td>0</td>\n",
       "      <td>61476</td>\n",
       "      <td>2016-03-12 17:32:27</td>\n",
       "    </tr>\n",
       "    <tr>\n",
       "      <th>234753</th>\n",
       "      <td>2016-03-14 19:44:46</td>\n",
       "      <td>Audi_A3_1.6_Ambiente</td>\n",
       "      <td>privat</td>\n",
       "      <td>Angebot</td>\n",
       "      <td>1700</td>\n",
       "      <td>control</td>\n",
       "      <td>limousine</td>\n",
       "      <td>1999</td>\n",
       "      <td>manuell</td>\n",
       "      <td>101</td>\n",
       "      <td>a3</td>\n",
       "      <td>150000</td>\n",
       "      <td>1</td>\n",
       "      <td>benzin</td>\n",
       "      <td>audi</td>\n",
       "      <td>nein</td>\n",
       "      <td>2016-03-14 00:00:00</td>\n",
       "      <td>0</td>\n",
       "      <td>72172</td>\n",
       "      <td>2016-03-19 08:16:03</td>\n",
       "    </tr>\n",
       "    <tr>\n",
       "      <th>26206</th>\n",
       "      <td>2016-03-23 19:51:41</td>\n",
       "      <td>Hyundai_Trajet_2_0__Klima__7_Sitzer__kein_Tuev</td>\n",
       "      <td>privat</td>\n",
       "      <td>Angebot</td>\n",
       "      <td>1299</td>\n",
       "      <td>control</td>\n",
       "      <td>bus</td>\n",
       "      <td>2001</td>\n",
       "      <td>manuell</td>\n",
       "      <td>116</td>\n",
       "      <td>andere</td>\n",
       "      <td>150000</td>\n",
       "      <td>5</td>\n",
       "      <td>benzin</td>\n",
       "      <td>hyundai</td>\n",
       "      <td>nein</td>\n",
       "      <td>2016-03-23 00:00:00</td>\n",
       "      <td>0</td>\n",
       "      <td>12159</td>\n",
       "      <td>2016-03-23 19:51:41</td>\n",
       "    </tr>\n",
       "    <tr>\n",
       "      <th>280021</th>\n",
       "      <td>2016-03-11 16:49:36</td>\n",
       "      <td>Suzuki_Swift_1.3_Club</td>\n",
       "      <td>privat</td>\n",
       "      <td>Angebot</td>\n",
       "      <td>4800</td>\n",
       "      <td>test</td>\n",
       "      <td>kleinwagen</td>\n",
       "      <td>2008</td>\n",
       "      <td>manuell</td>\n",
       "      <td>92</td>\n",
       "      <td>swift</td>\n",
       "      <td>70000</td>\n",
       "      <td>6</td>\n",
       "      <td>benzin</td>\n",
       "      <td>suzuki</td>\n",
       "      <td>nein</td>\n",
       "      <td>2016-03-11 00:00:00</td>\n",
       "      <td>0</td>\n",
       "      <td>40878</td>\n",
       "      <td>2016-03-11 16:49:36</td>\n",
       "    </tr>\n",
       "    <tr>\n",
       "      <th>111079</th>\n",
       "      <td>2016-03-09 17:49:40</td>\n",
       "      <td>Honda_Civic_1.8_Type_S_FN1_I_Shift__Advantage_...</td>\n",
       "      <td>privat</td>\n",
       "      <td>Angebot</td>\n",
       "      <td>9900</td>\n",
       "      <td>test</td>\n",
       "      <td>limousine</td>\n",
       "      <td>2009</td>\n",
       "      <td>automatik</td>\n",
       "      <td>140</td>\n",
       "      <td>civic</td>\n",
       "      <td>100000</td>\n",
       "      <td>11</td>\n",
       "      <td>benzin</td>\n",
       "      <td>honda</td>\n",
       "      <td>nein</td>\n",
       "      <td>2016-03-09 00:00:00</td>\n",
       "      <td>0</td>\n",
       "      <td>63329</td>\n",
       "      <td>2016-04-07 12:15:25</td>\n",
       "    </tr>\n",
       "    <tr>\n",
       "      <th>245131</th>\n",
       "      <td>2016-04-01 22:37:59</td>\n",
       "      <td>Volkswagen_Golf_Cabrio_1.8</td>\n",
       "      <td>privat</td>\n",
       "      <td>Angebot</td>\n",
       "      <td>1100</td>\n",
       "      <td>test</td>\n",
       "      <td>cabrio</td>\n",
       "      <td>1994</td>\n",
       "      <td>manuell</td>\n",
       "      <td>90</td>\n",
       "      <td>golf</td>\n",
       "      <td>150000</td>\n",
       "      <td>1</td>\n",
       "      <td>benzin</td>\n",
       "      <td>volkswagen</td>\n",
       "      <td>nein</td>\n",
       "      <td>2016-04-01 00:00:00</td>\n",
       "      <td>0</td>\n",
       "      <td>31226</td>\n",
       "      <td>2016-04-05 21:44:57</td>\n",
       "    </tr>\n",
       "    <tr>\n",
       "      <th>242092</th>\n",
       "      <td>2016-03-12 14:42:50</td>\n",
       "      <td>BMW_X3_3.0_TDI</td>\n",
       "      <td>privat</td>\n",
       "      <td>Angebot</td>\n",
       "      <td>13500</td>\n",
       "      <td>test</td>\n",
       "      <td>suv</td>\n",
       "      <td>2007</td>\n",
       "      <td>automatik</td>\n",
       "      <td>218</td>\n",
       "      <td>x_reihe</td>\n",
       "      <td>150000</td>\n",
       "      <td>8</td>\n",
       "      <td>diesel</td>\n",
       "      <td>bmw</td>\n",
       "      <td>nein</td>\n",
       "      <td>2016-02-18 00:00:00</td>\n",
       "      <td>0</td>\n",
       "      <td>79618</td>\n",
       "      <td>2016-04-05 11:49:29</td>\n",
       "    </tr>\n",
       "    <tr>\n",
       "      <th>98567</th>\n",
       "      <td>2016-03-18 02:46:04</td>\n",
       "      <td>VW_EOS_2.0__Sehr_Gepflegt__200_PS_</td>\n",
       "      <td>privat</td>\n",
       "      <td>Angebot</td>\n",
       "      <td>11500</td>\n",
       "      <td>control</td>\n",
       "      <td>cabrio</td>\n",
       "      <td>2007</td>\n",
       "      <td>manuell</td>\n",
       "      <td>200</td>\n",
       "      <td>eos</td>\n",
       "      <td>80000</td>\n",
       "      <td>5</td>\n",
       "      <td>benzin</td>\n",
       "      <td>volkswagen</td>\n",
       "      <td>nein</td>\n",
       "      <td>2016-02-07 00:00:00</td>\n",
       "      <td>0</td>\n",
       "      <td>32427</td>\n",
       "      <td>2016-04-06 19:15:53</td>\n",
       "    </tr>\n",
       "    <tr>\n",
       "      <th>339402</th>\n",
       "      <td>2016-03-17 09:48:45</td>\n",
       "      <td>Saab_9_3_1.9_TiD_DPF</td>\n",
       "      <td>privat</td>\n",
       "      <td>Angebot</td>\n",
       "      <td>3300</td>\n",
       "      <td>test</td>\n",
       "      <td>limousine</td>\n",
       "      <td>2005</td>\n",
       "      <td>manuell</td>\n",
       "      <td>175</td>\n",
       "      <td>andere</td>\n",
       "      <td>150000</td>\n",
       "      <td>4</td>\n",
       "      <td>diesel</td>\n",
       "      <td>saab</td>\n",
       "      <td>nein</td>\n",
       "      <td>2016-03-17 00:00:00</td>\n",
       "      <td>0</td>\n",
       "      <td>63543</td>\n",
       "      <td>2016-04-06 06:16:31</td>\n",
       "    </tr>\n",
       "    <tr>\n",
       "      <th>292166</th>\n",
       "      <td>2016-03-15 15:58:08</td>\n",
       "      <td>Audi_A4_Avant_1.6</td>\n",
       "      <td>privat</td>\n",
       "      <td>Angebot</td>\n",
       "      <td>1500</td>\n",
       "      <td>control</td>\n",
       "      <td>kombi</td>\n",
       "      <td>1998</td>\n",
       "      <td>manuell</td>\n",
       "      <td>101</td>\n",
       "      <td>a4</td>\n",
       "      <td>150000</td>\n",
       "      <td>2</td>\n",
       "      <td>benzin</td>\n",
       "      <td>audi</td>\n",
       "      <td>nein</td>\n",
       "      <td>2016-03-15 00:00:00</td>\n",
       "      <td>0</td>\n",
       "      <td>94209</td>\n",
       "      <td>2016-03-19 10:18:55</td>\n",
       "    </tr>\n",
       "  </tbody>\n",
       "</table>\n",
       "</div>"
      ],
      "text/plain": [
       "                dateCrawled  \\\n",
       "187112  2016-03-11 11:50:50   \n",
       "234753  2016-03-14 19:44:46   \n",
       "26206   2016-03-23 19:51:41   \n",
       "280021  2016-03-11 16:49:36   \n",
       "111079  2016-03-09 17:49:40   \n",
       "245131  2016-04-01 22:37:59   \n",
       "242092  2016-03-12 14:42:50   \n",
       "98567   2016-03-18 02:46:04   \n",
       "339402  2016-03-17 09:48:45   \n",
       "292166  2016-03-15 15:58:08   \n",
       "\n",
       "                                                     name  seller offerType  \\\n",
       "187112  Volkswagen_Golf_Plus_1.4_Sitzheizung_Klimaauto...  privat   Angebot   \n",
       "234753                               Audi_A3_1.6_Ambiente  privat   Angebot   \n",
       "26206      Hyundai_Trajet_2_0__Klima__7_Sitzer__kein_Tuev  privat   Angebot   \n",
       "280021                              Suzuki_Swift_1.3_Club  privat   Angebot   \n",
       "111079  Honda_Civic_1.8_Type_S_FN1_I_Shift__Advantage_...  privat   Angebot   \n",
       "245131                         Volkswagen_Golf_Cabrio_1.8  privat   Angebot   \n",
       "242092                                     BMW_X3_3.0_TDI  privat   Angebot   \n",
       "98567                  VW_EOS_2.0__Sehr_Gepflegt__200_PS_  privat   Angebot   \n",
       "339402                               Saab_9_3_1.9_TiD_DPF  privat   Angebot   \n",
       "292166                                  Audi_A4_Avant_1.6  privat   Angebot   \n",
       "\n",
       "        price   abtest vehicleType  yearOfRegistration    gearbox  powerPS  \\\n",
       "187112   5950     test         bus                2005    manuell       75   \n",
       "234753   1700  control   limousine                1999    manuell      101   \n",
       "26206    1299  control         bus                2001    manuell      116   \n",
       "280021   4800     test  kleinwagen                2008    manuell       92   \n",
       "111079   9900     test   limousine                2009  automatik      140   \n",
       "245131   1100     test      cabrio                1994    manuell       90   \n",
       "242092  13500     test         suv                2007  automatik      218   \n",
       "98567   11500  control      cabrio                2007    manuell      200   \n",
       "339402   3300     test   limousine                2005    manuell      175   \n",
       "292166   1500  control       kombi                1998    manuell      101   \n",
       "\n",
       "          model  kilometer  monthOfRegistration fuelType       brand  \\\n",
       "187112     golf      80000                   10   benzin  volkswagen   \n",
       "234753       a3     150000                    1   benzin        audi   \n",
       "26206    andere     150000                    5   benzin     hyundai   \n",
       "280021    swift      70000                    6   benzin      suzuki   \n",
       "111079    civic     100000                   11   benzin       honda   \n",
       "245131     golf     150000                    1   benzin  volkswagen   \n",
       "242092  x_reihe     150000                    8   diesel         bmw   \n",
       "98567       eos      80000                    5   benzin  volkswagen   \n",
       "339402   andere     150000                    4   diesel        saab   \n",
       "292166       a4     150000                    2   benzin        audi   \n",
       "\n",
       "       notRepairedDamage          dateCreated  nrOfPictures  postalCode  \\\n",
       "187112              nein  2016-03-11 00:00:00             0       61476   \n",
       "234753              nein  2016-03-14 00:00:00             0       72172   \n",
       "26206               nein  2016-03-23 00:00:00             0       12159   \n",
       "280021              nein  2016-03-11 00:00:00             0       40878   \n",
       "111079              nein  2016-03-09 00:00:00             0       63329   \n",
       "245131              nein  2016-04-01 00:00:00             0       31226   \n",
       "242092              nein  2016-02-18 00:00:00             0       79618   \n",
       "98567               nein  2016-02-07 00:00:00             0       32427   \n",
       "339402              nein  2016-03-17 00:00:00             0       63543   \n",
       "292166              nein  2016-03-15 00:00:00             0       94209   \n",
       "\n",
       "                   lastSeen  \n",
       "187112  2016-03-12 17:32:27  \n",
       "234753  2016-03-19 08:16:03  \n",
       "26206   2016-03-23 19:51:41  \n",
       "280021  2016-03-11 16:49:36  \n",
       "111079  2016-04-07 12:15:25  \n",
       "245131  2016-04-05 21:44:57  \n",
       "242092  2016-04-05 11:49:29  \n",
       "98567   2016-04-06 19:15:53  \n",
       "339402  2016-04-06 06:16:31  \n",
       "292166  2016-03-19 10:18:55  "
      ]
     },
     "execution_count": 28,
     "metadata": {},
     "output_type": "execute_result"
    }
   ],
   "source": [
    "df.sample(10)"
   ]
  },
  {
   "cell_type": "code",
   "execution_count": 29,
   "metadata": {
    "collapsed": false
   },
   "outputs": [
    {
     "data": {
      "text/plain": [
       "np.int64(37869)"
      ]
     },
     "execution_count": 29,
     "metadata": {},
     "output_type": "execute_result"
    }
   ],
   "source": [
    "# checking the column vehicleType for null values \n",
    "df[\"vehicleType\"].isnull().values.sum()"
   ]
  },
  {
   "cell_type": "code",
   "execution_count": 30,
   "metadata": {
    "collapsed": true
   },
   "outputs": [
    {
     "name": "stderr",
     "output_type": "stream",
     "text": [
      "C:\\Users\\jahna\\AppData\\Local\\Temp\\ipykernel_37140\\2383765098.py:2: FutureWarning: A value is trying to be set on a copy of a DataFrame or Series through chained assignment using an inplace method.\n",
      "The behavior will change in pandas 3.0. This inplace method will never work because the intermediate object on which we are setting values always behaves as a copy.\n",
      "\n",
      "For example, when doing 'df[col].method(value, inplace=True)', try using 'df.method({col: value}, inplace=True)' or df[col] = df[col].method(value) instead, to perform the operation inplace on the original object.\n",
      "\n",
      "\n",
      "  df[\"vehicleType\"].fillna(\"Other\", inplace=True)\n"
     ]
    }
   ],
   "source": [
    "# changing the vehicleType from NaN to Others\n",
    "df[\"vehicleType\"].fillna(\"Other\", inplace=True)"
   ]
  },
  {
   "cell_type": "code",
   "execution_count": 31,
   "metadata": {
    "collapsed": false
   },
   "outputs": [
    {
     "data": {
      "text/plain": [
       "brand\n",
       "False    371528\n",
       "Name: count, dtype: int64"
      ]
     },
     "execution_count": 31,
     "metadata": {},
     "output_type": "execute_result"
    }
   ],
   "source": [
    "# checking if there are any null values in the column brand\n",
    "df[\"brand\"].isnull().value_counts()"
   ]
  },
  {
   "cell_type": "code",
   "execution_count": 32,
   "metadata": {
    "collapsed": false
   },
   "outputs": [
    {
     "data": {
      "text/plain": [
       "seller\n",
       "False    371528\n",
       "Name: count, dtype: int64"
      ]
     },
     "execution_count": 32,
     "metadata": {},
     "output_type": "execute_result"
    }
   ],
   "source": [
    "# checking if there are any null values in the column seller\n",
    "df[\"seller\"].isnull().value_counts()"
   ]
  },
  {
   "cell_type": "code",
   "execution_count": 33,
   "metadata": {
    "collapsed": false
   },
   "outputs": [
    {
     "data": {
      "text/plain": [
       "offerType\n",
       "False    371528\n",
       "Name: count, dtype: int64"
      ]
     },
     "execution_count": 33,
     "metadata": {},
     "output_type": "execute_result"
    }
   ],
   "source": [
    "# checking if there are any null values in the offerType \n",
    "df[\"offerType\"].isnull().value_counts()"
   ]
  },
  {
   "cell_type": "code",
   "execution_count": 34,
   "metadata": {
    "collapsed": false
   },
   "outputs": [
    {
     "data": {
      "text/plain": [
       "array(['Angebot', 'Gesuch'], dtype=object)"
      ]
     },
     "execution_count": 34,
     "metadata": {},
     "output_type": "execute_result"
    }
   ],
   "source": [
    "# checking the different types of values in the column offerType\n",
    "df[\"offerType\"].unique()"
   ]
  },
  {
   "cell_type": "code",
   "execution_count": 35,
   "metadata": {
    "collapsed": true
   },
   "outputs": [],
   "source": [
    "# changing values of offerType Gesuch to Request and Angebot to Offer\n",
    "df[\"offerType\"] = df[\"offerType\"].map({'Gesuch':\"Request\",'Angebot':'Offer'})"
   ]
  },
  {
   "cell_type": "code",
   "execution_count": 36,
   "metadata": {
    "collapsed": false
   },
   "outputs": [
    {
     "data": {
      "text/plain": [
       "yearOfRegistration\n",
       "False    371528\n",
       "Name: count, dtype: int64"
      ]
     },
     "execution_count": 36,
     "metadata": {},
     "output_type": "execute_result"
    }
   ],
   "source": [
    "# checking if there are any null values in the yearOfRegistration\n",
    "df[\"yearOfRegistration\"].isnull().value_counts()"
   ]
  },
  {
   "cell_type": "code",
   "execution_count": 37,
   "metadata": {
    "collapsed": false
   },
   "outputs": [
    {
     "data": {
      "image/png": "[encoded data removed]",
      "text/plain": [
       "<Figure size 1200x600 with 1 Axes>"
      ]
     },
     "metadata": {},
     "output_type": "display_data"
    }
   ],
   "source": [
    "# Distribution of vehicles based on year of registration\n",
    "plt.figure(figsize=(12,6))\n",
    "\n",
    "# Separate valid and invalid registration years\n",
    "valid_years = df[(df['yearOfRegistration'] >= 1950) & (df['yearOfRegistration'] <= 2025)]['yearOfRegistration']\n",
    "invalid_years = df[(df['yearOfRegistration'] < 1950) | (df['yearOfRegistration'] > 2025)]['yearOfRegistration']\n",
    "\n",
    "# Plot valid years in green\n",
    "sns.histplot(valid_years, bins=30, kde=True, color='green', label='Valid Years')\n",
    "\n",
    "# Plot invalid years in red\n",
    "sns.histplot(invalid_years, bins=30, kde=True, color='red', label='Invalid Years')\n",
    "\n",
    "# Highlight the year with maximum vehicles\n",
    "max_year = valid_years.value_counts().idxmax()\n",
    "max_count = valid_years.value_counts().max()\n",
    "plt.axvline(max_year, color='blue', linestyle='--', linewidth=2, label=f'Max Vehicles: {max_year}')\n",
    "\n",
    "plt.title('Distribution of Vehicles Based on Year of Registration', fontsize=16)\n",
    "plt.xlabel('Year of Registration', fontsize=12)\n",
    "plt.ylabel('Count / Density', fontsize=12)\n",
    "plt.xlim(1900, 2025)\n",
    "plt.xticks(rotation=45)\n",
    "plt.legend()\n",
    "plt.show()"
   ]
  },
  {
   "cell_type": "code",
   "execution_count": 38,
   "metadata": {
    "collapsed": true
   },
   "outputs": [],
   "source": [
    "# dropping rows that are inconsistent with the dataset based on year of registration\n",
    "df = df[(df[\"yearOfRegistration\"] >= 1890) & (df[\"yearOfRegistration\"] <= 2016)]"
   ]
  },
  {
   "cell_type": "code",
   "execution_count": 39,
   "metadata": {
    "collapsed": false
   },
   "outputs": [
    {
     "name": "stderr",
     "output_type": "stream",
     "text": [
      "C:\\Users\\jahna\\AppData\\Local\\Temp\\ipykernel_37140\\2624835465.py:4: FutureWarning: \n",
      "\n",
      "Passing `palette` without assigning `hue` is deprecated and will be removed in v0.14.0. Assign the `x` variable to `hue` and set `legend=False` for the same effect.\n",
      "\n",
      "  sns.boxplot(x=\"vehicleType\", y=\"price\", data=df, palette=\"Set2\")\n"
     ]
    },
    {
     "data": {
      "image/png": "[encoded data removed]",
      "text/plain": [
       "<Figure size 1000x600 with 1 Axes>"
      ]
     },
     "metadata": {},
     "output_type": "display_data"
    }
   ],
   "source": [
    "plt.figure(figsize=(10,6))\n",
    "\n",
    "# Simple boxplot\n",
    "sns.boxplot(x=\"vehicleType\", y=\"price\", data=df, palette=\"Set2\")\n",
    "\n",
    "# Add a simple text annotation about outliers\n",
    "plt.text(\n",
    "    x=2,  # approximate x-position (center of the plot)\n",
    "    y=df['price'].max()*0.9,  # position near top\n",
    "    s=\"Many Outliers are present\",\n",
    "    fontsize=14,\n",
    "    color=\"red\",\n",
    "    ha=\"center\"\n",
    ")\n",
    "\n",
    "plt.title(\"Price Distribution by Vehicle Type\", fontsize=16)\n",
    "plt.xlabel(\"Vehicle Type\", fontsize=12)\n",
    "plt.ylabel(\"Price\", fontsize=12)\n",
    "plt.xticks(rotation=45)\n",
    "plt.show()"
   ]
  },
  {
   "cell_type": "code",
   "execution_count": 40,
   "metadata": {
    "collapsed": false
   },
   "outputs": [
    {
     "data": {
      "text/plain": [
       "vehicleType\n",
       "Other          3708.000\n",
       "andere         8429.500\n",
       "bus           13948.500\n",
       "cabrio        21400.000\n",
       "coupe         24300.000\n",
       "kleinwagen     5775.000\n",
       "kombi         13076.875\n",
       "limousine     12801.500\n",
       "suv           28800.000\n",
       "Name: price, dtype: float64"
      ]
     },
     "execution_count": 40,
     "metadata": {},
     "output_type": "execute_result"
    }
   ],
   "source": [
    "# Mean of the prices of all the vehicle types\n",
    "_median = df.groupby(\"vehicleType\")[\"price\"].median()\n",
    "\n",
    "# 75th percentile of the prices of all the vehicles types\n",
    "_quantile75 = df.groupby(\"vehicleType\")[\"price\"].quantile(0.75)\n",
    "\n",
    "# 25th percentile of the prices of all the vehicles types\n",
    "_quantile25 = df.groupby(\"vehicleType\")[\"price\"].quantile(0.25)\n",
    "\n",
    "# Calculating the value of the prices of each vehicle type above which all the values are outliers\n",
    "iqr = (_quantile75 - _quantile25)*1.5 + _median\n",
    "iqr"
   ]
  },
  {
   "cell_type": "code",
   "execution_count": 41,
   "metadata": {
    "collapsed": false
   },
   "outputs": [],
   "source": [
    "# Removing the outliers as per the logic above\n",
    "df = df[((df[\"vehicleType\"] == \"andere\") & (df[\"price\"] <= 8429)) |\n",
    "        ((df[\"vehicleType\"] == \"Other\") & (df[\"price\"] <= 3708)) |\n",
    "        ((df[\"vehicleType\"] == \"suv\") & (df[\"price\"] <= 28800)) |\n",
    "        ((df[\"vehicleType\"] == \"kombi\") & (df[\"price\"] <= 13076)) |\n",
    "        ((df[\"vehicleType\"] == \"bus\") & (df[\"price\"] <= 13948)) |\n",
    "        ((df[\"vehicleType\"] == \"cabrio\") & (df[\"price\"] <= 21400)) |\n",
    "        ((df[\"vehicleType\"] == \"limousine\") & (df[\"price\"] <= 12801)) |\n",
    "        ((df[\"vehicleType\"] == \"coupe\") & (df[\"price\"] <= 24300)) |\n",
    "        ((df[\"vehicleType\"] == \"kleinwagen\") & (df[\"price\"] <= 5775))]"
   ]
  },
  {
   "cell_type": "code",
   "execution_count": 42,
   "metadata": {
    "collapsed": true
   },
   "outputs": [
    {
     "name": "stderr",
     "output_type": "stream",
     "text": [
      "C:\\Users\\jahna\\AppData\\Local\\Temp\\ipykernel_37140\\2027268775.py:5: FutureWarning: A value is trying to be set on a copy of a DataFrame or Series through chained assignment using an inplace method.\n",
      "The behavior will change in pandas 3.0. This inplace method will never work because the intermediate object on which we are setting values always behaves as a copy.\n",
      "\n",
      "For example, when doing 'df[col].method(value, inplace=True)', try using 'df.method({col: value}, inplace=True)' or df[col] = df[col].method(value) instead, to perform the operation inplace on the original object.\n",
      "\n",
      "\n",
      "  df[\"gearbox\"].fillna(\"Unspecified\", inplace=True)\n"
     ]
    }
   ],
   "source": [
    "# checking if the gearbox column has null values\n",
    "df[\"gearbox\"].isnull().value_counts()\n",
    "\n",
    "# setting the NaN gearbox types to Unspecified\n",
    "df[\"gearbox\"].fillna(\"Unspecified\", inplace=True)"
   ]
  },
  {
   "cell_type": "code",
   "execution_count": 43,
   "metadata": {
    "collapsed": false
   },
   "outputs": [
    {
     "data": {
      "text/plain": [
       "fuelType\n",
       "False    288358\n",
       "True      25329\n",
       "Name: count, dtype: int64"
      ]
     },
     "execution_count": 43,
     "metadata": {},
     "output_type": "execute_result"
    }
   ],
   "source": [
    "# checking if the fuelType has null values\n",
    "df[\"fuelType\"].isnull().value_counts()"
   ]
  },
  {
   "cell_type": "code",
   "execution_count": 44,
   "metadata": {
    "collapsed": true
   },
   "outputs": [
    {
     "name": "stderr",
     "output_type": "stream",
     "text": [
      "C:\\Users\\jahna\\AppData\\Local\\Temp\\ipykernel_37140\\669376876.py:2: FutureWarning: A value is trying to be set on a copy of a DataFrame or Series through chained assignment using an inplace method.\n",
      "The behavior will change in pandas 3.0. This inplace method will never work because the intermediate object on which we are setting values always behaves as a copy.\n",
      "\n",
      "For example, when doing 'df[col].method(value, inplace=True)', try using 'df.method({col: value}, inplace=True)' or df[col] = df[col].method(value) instead, to perform the operation inplace on the original object.\n",
      "\n",
      "\n",
      "  df[\"fuelType\"].fillna(\"other\",inplace=True)\n"
     ]
    }
   ],
   "source": [
    "# setting the NaN fuelType types to other\n",
    "df[\"fuelType\"].fillna(\"other\",inplace=True)"
   ]
  },
  {
   "cell_type": "code",
   "execution_count": 45,
   "metadata": {
    "collapsed": false
   },
   "outputs": [
    {
     "data": {
      "text/plain": [
       "array(['benzin', 'diesel', 'other', 'lpg', 'andere', 'hybrid', 'cng',\n",
       "       'elektro'], dtype=object)"
      ]
     },
     "execution_count": 45,
     "metadata": {},
     "output_type": "execute_result"
    }
   ],
   "source": [
    "# checking how many unique types of fuelTypes are present\n",
    "df[\"fuelType\"].unique()"
   ]
  },
  {
   "cell_type": "code",
   "execution_count": 46,
   "metadata": {
    "collapsed": true
   },
   "outputs": [],
   "source": [
    "# Changing german names to english readable format\n",
    "df[\"fuelType\"] = df[\"fuelType\"].map({'benzin':'Gasoline','diesel':'Diesel','other':'Other','lpg':'Lpg','hybrid':'Hybrid','cng':'Cng','elektro':'Electric'})"
   ]
  },
  {
   "cell_type": "code",
   "execution_count": 47,
   "metadata": {
    "collapsed": true
   },
   "outputs": [],
   "source": [
    "# deleting the column noOfPictures since all of them are Zero\n",
    "del df[\"nrOfPictures\"]"
   ]
  },
  {
   "cell_type": "code",
   "execution_count": 48,
   "metadata": {
    "collapsed": true
   },
   "outputs": [],
   "source": [
    "# splitting dateCreated by year\n",
    "df[\"yearOfCreation\"] = df['dateCreated'].apply(lambda x: datetime.strptime(x,'%Y-%m-%d %H:%M:%S').date().strftime('%Y'))\n",
    "\n",
    "# splitting dateCrawled by year\n",
    "df[\"yearCrawled\"] = df['dateCrawled'].apply(lambda x: datetime.strptime(x,'%Y-%m-%d %H:%M:%S').date().strftime('%Y'))\n",
    "\n",
    "# splitting dateCreated by month\n",
    "df[\"monthOfCreation\"] = df['dateCreated'].apply(lambda x: datetime.strptime(x,'%Y-%m-%d %H:%M:%S').date().strftime('%B'))\n",
    "\n",
    "# splitting dateCrawled by month\n",
    "df[\"monthCrawled\"] = df['dateCrawled'].apply(lambda x: datetime.strptime(x,'%Y-%m-%d %H:%M:%S').date().strftime('%B'))\n",
    "\n",
    "# no of days seen online\n",
    "from_date = df['dateCreated'].apply(lambda x: datetime.strptime(x,'%Y-%m-%d %H:%M:%S').date())\n",
    "to_date = df['lastSeen'].apply(lambda x: datetime.strptime(x,'%Y-%m-%d %H:%M:%S').date())\n",
    "no_days = abs((to_date-from_date))\n",
    "no_days = (no_days / np.timedelta64(1, 'D')).astype(int)\n",
    "df[\"NoOfDaysOnline\"] = no_days\n",
    "\n",
    "# no of hrs seen online\n",
    "hrs_from = df['dateCreated'].apply(lambda x: datetime.strptime(x,'%Y-%m-%d %H:%M:%S').time().strftime('%H'))\n",
    "hrs_to = df['lastSeen'].apply(lambda x: datetime.strptime(x,'%Y-%m-%d %H:%M:%S').time().strftime('%H'))\n",
    "total_hrs = (hrs_to.astype(int) - hrs_from.astype(int))\n",
    "df[\"NoOfHrsOnline\"] = total_hrs"
   ]
  },
  {
   "cell_type": "code",
   "execution_count": 49,
   "metadata": {
    "collapsed": false
   },
   "outputs": [
    {
     "data": {
      "text/plain": [
       "powerPS\n",
       "False    313687\n",
       "Name: count, dtype: int64"
      ]
     },
     "execution_count": 49,
     "metadata": {},
     "output_type": "execute_result"
    }
   ],
   "source": [
    "# checking for null values in powerPS column\n",
    "df[\"powerPS\"].isnull().value_counts()"
   ]
  },
  {
   "cell_type": "code",
   "execution_count": 50,
   "metadata": {
    "collapsed": false
   },
   "outputs": [
    {
     "data": {
      "text/plain": [
       "array([nan, 'ja', 'nein'], dtype=object)"
      ]
     },
     "execution_count": 50,
     "metadata": {},
     "output_type": "execute_result"
    }
   ],
   "source": [
    "# checking for unique values in notRepairedDamage\n",
    "df[\"notRepairedDamage\"].unique()"
   ]
  },
  {
   "cell_type": "code",
   "execution_count": 51,
   "metadata": {
    "collapsed": true
   },
   "outputs": [
    {
     "name": "stderr",
     "output_type": "stream",
     "text": [
      "C:\\Users\\jahna\\AppData\\Local\\Temp\\ipykernel_37140\\371288391.py:2: FutureWarning: A value is trying to be set on a copy of a DataFrame or Series through chained assignment using an inplace method.\n",
      "The behavior will change in pandas 3.0. This inplace method will never work because the intermediate object on which we are setting values always behaves as a copy.\n",
      "\n",
      "For example, when doing 'df[col].method(value, inplace=True)', try using 'df.method({col: value}, inplace=True)' or df[col] = df[col].method(value) instead, to perform the operation inplace on the original object.\n",
      "\n",
      "\n",
      "  df[\"notRepairedDamage\"].fillna(\"other\",inplace=True)\n"
     ]
    }
   ],
   "source": [
    "# setting nan in notRepairedDamage to other\n",
    "df[\"notRepairedDamage\"].fillna(\"other\",inplace=True)"
   ]
  },
  {
   "cell_type": "code",
   "execution_count": 52,
   "metadata": {
    "collapsed": true
   },
   "outputs": [],
   "source": [
    "# Changing german names to english readable format\n",
    "df[\"notRepairedDamage\"] = df[\"notRepairedDamage\"].map({'other':'Other','ja':'Yes','nein':'No'})"
   ]
  },
  {
   "cell_type": "code",
   "execution_count": 53,
   "metadata": {
    "collapsed": false
   },
   "outputs": [
    {
     "data": {
      "text/plain": [
       "model\n",
       "False    297078\n",
       "True      16609\n",
       "Name: count, dtype: int64"
      ]
     },
     "execution_count": 53,
     "metadata": {},
     "output_type": "execute_result"
    }
   ],
   "source": [
    "# checking for unique values in model column\n",
    "df[\"model\"].isnull().value_counts()"
   ]
  },
  {
   "cell_type": "code",
   "execution_count": 54,
   "metadata": {
    "collapsed": true
   },
   "outputs": [
    {
     "name": "stderr",
     "output_type": "stream",
     "text": [
      "C:\\Users\\jahna\\AppData\\Local\\Temp\\ipykernel_37140\\971927667.py:2: FutureWarning: A value is trying to be set on a copy of a DataFrame or Series through chained assignment using an inplace method.\n",
      "The behavior will change in pandas 3.0. This inplace method will never work because the intermediate object on which we are setting values always behaves as a copy.\n",
      "\n",
      "For example, when doing 'df[col].method(value, inplace=True)', try using 'df.method({col: value}, inplace=True)' or df[col] = df[col].method(value) instead, to perform the operation inplace on the original object.\n",
      "\n",
      "\n",
      "  df[\"model\"].fillna(\"Other\",inplace=True)\n"
     ]
    }
   ],
   "source": [
    "# setting nan in model column to Other\n",
    "df[\"model\"].fillna(\"Other\",inplace=True)"
   ]
  },
  {
   "cell_type": "code",
   "execution_count": 55,
   "metadata": {
    "collapsed": false
   },
   "outputs": [
    {
     "data": {
      "text/plain": [
       "abtest\n",
       "False    313687\n",
       "Name: count, dtype: int64"
      ]
     },
     "execution_count": 55,
     "metadata": {},
     "output_type": "execute_result"
    }
   ],
   "source": [
    "# checking for null values in abtest column\n",
    "df[\"abtest\"].isnull().value_counts()"
   ]
  },
  {
   "cell_type": "code",
   "execution_count": 56,
   "metadata": {
    "collapsed": false
   },
   "outputs": [
    {
     "name": "stderr",
     "output_type": "stream",
     "text": [
      "C:\\Users\\jahna\\AppData\\Local\\Temp\\ipykernel_37140\\4206158251.py:2: FutureWarning: A value is trying to be set on a copy of a DataFrame or Series through chained assignment using an inplace method.\n",
      "The behavior will change in pandas 3.0. This inplace method will never work because the intermediate object on which we are setting values always behaves as a copy.\n",
      "\n",
      "For example, when doing 'df[col].method(value, inplace=True)', try using 'df.method({col: value}, inplace=True)' or df[col] = df[col].method(value) instead, to perform the operation inplace on the original object.\n",
      "\n",
      "\n",
      "  df[\"monthOfRegistration\"].replace([0,12],[1,11],inplace=True)\n"
     ]
    }
   ],
   "source": [
    "# mappig the values on monthOfRegistration column from 1-12 \n",
    "df[\"monthOfRegistration\"].replace([0,12],[1,11],inplace=True)"
   ]
  },
  {
   "cell_type": "code",
   "execution_count": 57,
   "metadata": {
    "collapsed": false
   },
   "outputs": [],
   "source": [
    "# calculating no of years the vehicle is old\n",
    "df[\"yearsOld\"] = 2016 - df[\"yearOfRegistration\"]\n",
    "\n",
    "# calculating no of months the vehicle is old\n",
    "df[\"monthsOld\"] = 12 - df[\"monthOfRegistration\"]\n"
   ]
  },
  {
   "cell_type": "code",
   "execution_count": 58,
   "metadata": {
    "collapsed": true
   },
   "outputs": [
    {
     "name": "stderr",
     "output_type": "stream",
     "text": [
      "C:\\Users\\jahna\\AppData\\Local\\Temp\\ipykernel_37140\\497969778.py:3: FutureWarning: A value is trying to be set on a copy of a DataFrame or Series through chained assignment using an inplace method.\n",
      "The behavior will change in pandas 3.0. This inplace method will never work because the intermediate object on which we are setting values always behaves as a copy.\n",
      "\n",
      "For example, when doing 'df[col].method(value, inplace=True)', try using 'df.method({col: value}, inplace=True)' or df[col] = df[col].method(value) instead, to perform the operation inplace on the original object.\n",
      "\n",
      "\n",
      "  df[\"monthOfRegistration\"].replace([1,2,3,4,5,6,7,8,9,10,11],months,inplace=True)\n"
     ]
    }
   ],
   "source": [
    "# mappig the values on monthOfRegistration column from 1-12 to Jan to Dec\n",
    "months = [\"Jan\",\"Feb\",\"Mar\",\"Apr\",\"May\",\"Jun\",\"Jul\",\"Aug\",\"Sep\",\"Oct\",\"Nov\"]\n",
    "df[\"monthOfRegistration\"].replace([1,2,3,4,5,6,7,8,9,10,11],months,inplace=True)"
   ]
  },
  {
   "cell_type": "code",
   "execution_count": 59,
   "metadata": {
    "collapsed": false
   },
   "outputs": [
    {
     "data": {
      "text/plain": [
       "postalCode\n",
       "False    313687\n",
       "Name: count, dtype: int64"
      ]
     },
     "execution_count": 59,
     "metadata": {},
     "output_type": "execute_result"
    }
   ],
   "source": [
    "# checking if postal code values are null\n",
    "df[\"postalCode\"].isnull().value_counts()"
   ]
  },
  {
   "cell_type": "code",
   "execution_count": null,
   "metadata": {
    "collapsed": false
   },
   "outputs": [],
   "source": []
  },
  {
   "cell_type": "code",
   "execution_count": 64,
   "metadata": {
    "collapsed": false
   },
   "outputs": [
    {
     "name": "stdout",
     "output_type": "stream",
     "text": [
      "All folders created!\n"
     ]
    }
   ],
   "source": [
    "import os\n",
    "\n",
    "abs_path = r\"C:\\Users\\jahna\\OneDrive\\Desktop\\Codes\\python\\PythonProj\\data-analysis-using-python-master\"\n",
    "\n",
    "# List of unique brands\n",
    "brands = df[\"brand\"].unique()  # df is your DataFrame\n",
    "\n",
    "# Create all folders (base + brands + cleaned dataset) in one go\n",
    "[os.makedirs(os.path.join(abs_path, \"CleanData\", \"DataForAnalysis\", b), exist_ok=True) for b in brands]\n",
    "os.makedirs(os.path.join(abs_path, \"CleanData\", \"CleanedDataSet\"), exist_ok=True)\n",
    "\n",
    "print(\"All folders created!\")\n"
   ]
  },
  {
   "cell_type": "code",
   "execution_count": 63,
   "metadata": {
    "collapsed": true
   },
   "outputs": [],
   "source": [
    "# saving the data file as csv to current directory location\n",
    "path_to_file  = abs_path + \"/CleanData/CleanedDataSet/cleaned_autos.csv\"\n",
    "df.to_csv(path_to_file,index=False)"
   ]
  }
 ],
 "metadata": {
  "anaconda-cloud": {},
  "kernelspec": {
   "display_name": "PYTHONPROJ",
   "language": "python",
   "name": "python3"
  },
  "language_info": {
   "codemirror_mode": {
    "name": "ipython",
    "version": 3
   },
   "file_extension": ".py",
   "mimetype": "text/x-python",
   "name": "python",
   "nbconvert_exporter": "python",
   "pygments_lexer": "ipython3",
   "version": "3.11.13"
  }
 },
 "nbformat": 4,
 "nbformat_minor": 1
}
